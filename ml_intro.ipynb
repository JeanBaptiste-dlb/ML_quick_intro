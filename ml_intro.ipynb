{
  "cells": [
    {
      "cell_type": "markdown",
      "metadata": {
        "id": "view-in-github",
        "colab_type": "text"
      },
      "source": [
        "<a href=\"https://colab.research.google.com/github/JeanBaptiste-dlb/ML_quick_intro/blob/main/ml_intro.ipynb\" target=\"_parent\"><img src=\"https://colab.research.google.com/assets/colab-badge.svg\" alt=\"Open In Colab\"/></a>"
      ]
    },
    {
      "cell_type": "markdown",
      "metadata": {
        "id": "S8HoR0Wwteda"
      },
      "source": [
        "# Intro to Machine Learning Basel Hack 2022\n",
        "\n",
        "This notebook aims to present some Machine Learning applications in a very constrained time. \n",
        "\n",
        "It will contain:\n",
        "- A basic supervised classification and regression\n",
        "- An unsupervised clustering\n",
        "- A small Computer vision application\n",
        "- A small Natural Language processing application\n"
      ]
    },
    {
      "cell_type": "markdown",
      "source": [
        "## imports"
      ],
      "metadata": {
        "id": "of03OR1_vU_v"
      }
    },
    {
      "cell_type": "code",
      "source": [
        "from IPython.display import clear_output\n",
        "!pip install pandas\n",
        "!pip install sklearn\n",
        "clear_output(wait=True)\n"
      ],
      "metadata": {
        "id": "piyTlDASvciT",
        "outputId": "b5ed5cf8-9147-4e00-9327-04b121a8722e",
        "colab": {
          "base_uri": "https://localhost:8080/"
        }
      },
      "execution_count": 136,
      "outputs": [
        {
          "output_type": "stream",
          "name": "stdout",
          "text": [
            "Looking in indexes: https://pypi.org/simple, https://us-python.pkg.dev/colab-wheels/public/simple/\n",
            "Requirement already satisfied: pandas in /usr/local/lib/python3.7/dist-packages (1.3.5)\n",
            "Requirement already satisfied: python-dateutil>=2.7.3 in /usr/local/lib/python3.7/dist-packages (from pandas) (2.8.2)\n",
            "Requirement already satisfied: pytz>=2017.3 in /usr/local/lib/python3.7/dist-packages (from pandas) (2022.4)\n",
            "Requirement already satisfied: numpy>=1.17.3 in /usr/local/lib/python3.7/dist-packages (from pandas) (1.21.6)\n",
            "Requirement already satisfied: six>=1.5 in /usr/local/lib/python3.7/dist-packages (from python-dateutil>=2.7.3->pandas) (1.15.0)\n",
            "Looking in indexes: https://pypi.org/simple, https://us-python.pkg.dev/colab-wheels/public/simple/\n",
            "Requirement already satisfied: sklearn in /usr/local/lib/python3.7/dist-packages (0.0)\n",
            "Requirement already satisfied: scikit-learn in /usr/local/lib/python3.7/dist-packages (from sklearn) (1.0.2)\n",
            "Requirement already satisfied: joblib>=0.11 in /usr/local/lib/python3.7/dist-packages (from scikit-learn->sklearn) (1.2.0)\n",
            "Requirement already satisfied: numpy>=1.14.6 in /usr/local/lib/python3.7/dist-packages (from scikit-learn->sklearn) (1.21.6)\n",
            "Requirement already satisfied: threadpoolctl>=2.0.0 in /usr/local/lib/python3.7/dist-packages (from scikit-learn->sklearn) (3.1.0)\n",
            "Requirement already satisfied: scipy>=1.1.0 in /usr/local/lib/python3.7/dist-packages (from scikit-learn->sklearn) (1.7.3)\n"
          ]
        }
      ]
    },
    {
      "cell_type": "code",
      "source": [
        "import pandas as pd\n",
        "import requests\n",
        "from io import StringIO\n",
        "from sklearn import preprocessing\n",
        "import seaborn as sns\n",
        "import numpy as np\n",
        "import tensorflow as tf\n",
        "import matplotlib.pyplot as plt \n",
        "from PIL import Image\n",
        "import torch.nn as nn\n",
        "import torch.nn.functional as F\n",
        "import torch.optim as optim"
      ],
      "metadata": {
        "id": "-HBWrWyHvWt-"
      },
      "execution_count": 137,
      "outputs": []
    },
    {
      "cell_type": "markdown",
      "source": [
        "## Regression\n",
        "In the following example, we will try to predict the value of the houses in California based on some features. \n",
        "This problem is a regression as our label (the median house value in a district) take value in a continuous segment (approximation, intuition: there is way too many possible values for the label to consider it a classification problem). "
      ],
      "metadata": {
        "id": "N3h359BA9BPF"
      }
    },
    {
      "cell_type": "markdown",
      "source": [
        "## get dataset"
      ],
      "metadata": {
        "id": "ugacMUdr8upJ"
      }
    },
    {
      "cell_type": "code",
      "source": [
        "df_train=pd.read_csv(\"./sample_data/california_housing_train.csv\")\n",
        "df_test=pd.read_csv(\"./sample_data/california_housing_test.csv\")\n",
        "\n",
        "## I put the 2 dataset together because for Min Max normalization I want same scale between train and test. we will split again later.\n",
        "df=pd.concat([df_train,df_test])\n",
        "df=df.reset_index(drop=True)\n",
        "display(df.head(5))\n",
        "print(len(df))"
      ],
      "metadata": {
        "id": "O9gB7Lm-u_aV",
        "outputId": "b2604dc2-f4ee-445c-9c18-1591ded3beaf",
        "colab": {
          "base_uri": "https://localhost:8080/",
          "height": 225
        }
      },
      "execution_count": 138,
      "outputs": [
        {
          "output_type": "display_data",
          "data": {
            "text/plain": [
              "   longitude  latitude  housing_median_age  total_rooms  total_bedrooms  \\\n",
              "0    -114.31     34.19                15.0       5612.0          1283.0   \n",
              "1    -114.47     34.40                19.0       7650.0          1901.0   \n",
              "2    -114.56     33.69                17.0        720.0           174.0   \n",
              "3    -114.57     33.64                14.0       1501.0           337.0   \n",
              "4    -114.57     33.57                20.0       1454.0           326.0   \n",
              "\n",
              "   population  households  median_income  median_house_value  \n",
              "0      1015.0       472.0         1.4936             66900.0  \n",
              "1      1129.0       463.0         1.8200             80100.0  \n",
              "2       333.0       117.0         1.6509             85700.0  \n",
              "3       515.0       226.0         3.1917             73400.0  \n",
              "4       624.0       262.0         1.9250             65500.0  "
            ],
            "text/html": [
              "\n",
              "  <div id=\"df-c4cf556c-aa02-42bf-b11e-5e21236e8bd3\">\n",
              "    <div class=\"colab-df-container\">\n",
              "      <div>\n",
              "<style scoped>\n",
              "    .dataframe tbody tr th:only-of-type {\n",
              "        vertical-align: middle;\n",
              "    }\n",
              "\n",
              "    .dataframe tbody tr th {\n",
              "        vertical-align: top;\n",
              "    }\n",
              "\n",
              "    .dataframe thead th {\n",
              "        text-align: right;\n",
              "    }\n",
              "</style>\n",
              "<table border=\"1\" class=\"dataframe\">\n",
              "  <thead>\n",
              "    <tr style=\"text-align: right;\">\n",
              "      <th></th>\n",
              "      <th>longitude</th>\n",
              "      <th>latitude</th>\n",
              "      <th>housing_median_age</th>\n",
              "      <th>total_rooms</th>\n",
              "      <th>total_bedrooms</th>\n",
              "      <th>population</th>\n",
              "      <th>households</th>\n",
              "      <th>median_income</th>\n",
              "      <th>median_house_value</th>\n",
              "    </tr>\n",
              "  </thead>\n",
              "  <tbody>\n",
              "    <tr>\n",
              "      <th>0</th>\n",
              "      <td>-114.31</td>\n",
              "      <td>34.19</td>\n",
              "      <td>15.0</td>\n",
              "      <td>5612.0</td>\n",
              "      <td>1283.0</td>\n",
              "      <td>1015.0</td>\n",
              "      <td>472.0</td>\n",
              "      <td>1.4936</td>\n",
              "      <td>66900.0</td>\n",
              "    </tr>\n",
              "    <tr>\n",
              "      <th>1</th>\n",
              "      <td>-114.47</td>\n",
              "      <td>34.40</td>\n",
              "      <td>19.0</td>\n",
              "      <td>7650.0</td>\n",
              "      <td>1901.0</td>\n",
              "      <td>1129.0</td>\n",
              "      <td>463.0</td>\n",
              "      <td>1.8200</td>\n",
              "      <td>80100.0</td>\n",
              "    </tr>\n",
              "    <tr>\n",
              "      <th>2</th>\n",
              "      <td>-114.56</td>\n",
              "      <td>33.69</td>\n",
              "      <td>17.0</td>\n",
              "      <td>720.0</td>\n",
              "      <td>174.0</td>\n",
              "      <td>333.0</td>\n",
              "      <td>117.0</td>\n",
              "      <td>1.6509</td>\n",
              "      <td>85700.0</td>\n",
              "    </tr>\n",
              "    <tr>\n",
              "      <th>3</th>\n",
              "      <td>-114.57</td>\n",
              "      <td>33.64</td>\n",
              "      <td>14.0</td>\n",
              "      <td>1501.0</td>\n",
              "      <td>337.0</td>\n",
              "      <td>515.0</td>\n",
              "      <td>226.0</td>\n",
              "      <td>3.1917</td>\n",
              "      <td>73400.0</td>\n",
              "    </tr>\n",
              "    <tr>\n",
              "      <th>4</th>\n",
              "      <td>-114.57</td>\n",
              "      <td>33.57</td>\n",
              "      <td>20.0</td>\n",
              "      <td>1454.0</td>\n",
              "      <td>326.0</td>\n",
              "      <td>624.0</td>\n",
              "      <td>262.0</td>\n",
              "      <td>1.9250</td>\n",
              "      <td>65500.0</td>\n",
              "    </tr>\n",
              "  </tbody>\n",
              "</table>\n",
              "</div>\n",
              "      <button class=\"colab-df-convert\" onclick=\"convertToInteractive('df-c4cf556c-aa02-42bf-b11e-5e21236e8bd3')\"\n",
              "              title=\"Convert this dataframe to an interactive table.\"\n",
              "              style=\"display:none;\">\n",
              "        \n",
              "  <svg xmlns=\"http://www.w3.org/2000/svg\" height=\"24px\"viewBox=\"0 0 24 24\"\n",
              "       width=\"24px\">\n",
              "    <path d=\"M0 0h24v24H0V0z\" fill=\"none\"/>\n",
              "    <path d=\"M18.56 5.44l.94 2.06.94-2.06 2.06-.94-2.06-.94-.94-2.06-.94 2.06-2.06.94zm-11 1L8.5 8.5l.94-2.06 2.06-.94-2.06-.94L8.5 2.5l-.94 2.06-2.06.94zm10 10l.94 2.06.94-2.06 2.06-.94-2.06-.94-.94-2.06-.94 2.06-2.06.94z\"/><path d=\"M17.41 7.96l-1.37-1.37c-.4-.4-.92-.59-1.43-.59-.52 0-1.04.2-1.43.59L10.3 9.45l-7.72 7.72c-.78.78-.78 2.05 0 2.83L4 21.41c.39.39.9.59 1.41.59.51 0 1.02-.2 1.41-.59l7.78-7.78 2.81-2.81c.8-.78.8-2.07 0-2.86zM5.41 20L4 18.59l7.72-7.72 1.47 1.35L5.41 20z\"/>\n",
              "  </svg>\n",
              "      </button>\n",
              "      \n",
              "  <style>\n",
              "    .colab-df-container {\n",
              "      display:flex;\n",
              "      flex-wrap:wrap;\n",
              "      gap: 12px;\n",
              "    }\n",
              "\n",
              "    .colab-df-convert {\n",
              "      background-color: #E8F0FE;\n",
              "      border: none;\n",
              "      border-radius: 50%;\n",
              "      cursor: pointer;\n",
              "      display: none;\n",
              "      fill: #1967D2;\n",
              "      height: 32px;\n",
              "      padding: 0 0 0 0;\n",
              "      width: 32px;\n",
              "    }\n",
              "\n",
              "    .colab-df-convert:hover {\n",
              "      background-color: #E2EBFA;\n",
              "      box-shadow: 0px 1px 2px rgba(60, 64, 67, 0.3), 0px 1px 3px 1px rgba(60, 64, 67, 0.15);\n",
              "      fill: #174EA6;\n",
              "    }\n",
              "\n",
              "    [theme=dark] .colab-df-convert {\n",
              "      background-color: #3B4455;\n",
              "      fill: #D2E3FC;\n",
              "    }\n",
              "\n",
              "    [theme=dark] .colab-df-convert:hover {\n",
              "      background-color: #434B5C;\n",
              "      box-shadow: 0px 1px 3px 1px rgba(0, 0, 0, 0.15);\n",
              "      filter: drop-shadow(0px 1px 2px rgba(0, 0, 0, 0.3));\n",
              "      fill: #FFFFFF;\n",
              "    }\n",
              "  </style>\n",
              "\n",
              "      <script>\n",
              "        const buttonEl =\n",
              "          document.querySelector('#df-c4cf556c-aa02-42bf-b11e-5e21236e8bd3 button.colab-df-convert');\n",
              "        buttonEl.style.display =\n",
              "          google.colab.kernel.accessAllowed ? 'block' : 'none';\n",
              "\n",
              "        async function convertToInteractive(key) {\n",
              "          const element = document.querySelector('#df-c4cf556c-aa02-42bf-b11e-5e21236e8bd3');\n",
              "          const dataTable =\n",
              "            await google.colab.kernel.invokeFunction('convertToInteractive',\n",
              "                                                     [key], {});\n",
              "          if (!dataTable) return;\n",
              "\n",
              "          const docLinkHtml = 'Like what you see? Visit the ' +\n",
              "            '<a target=\"_blank\" href=https://colab.research.google.com/notebooks/data_table.ipynb>data table notebook</a>'\n",
              "            + ' to learn more about interactive tables.';\n",
              "          element.innerHTML = '';\n",
              "          dataTable['output_type'] = 'display_data';\n",
              "          await google.colab.output.renderOutput(dataTable, element);\n",
              "          const docLink = document.createElement('div');\n",
              "          docLink.innerHTML = docLinkHtml;\n",
              "          element.appendChild(docLink);\n",
              "        }\n",
              "      </script>\n",
              "    </div>\n",
              "  </div>\n",
              "  "
            ]
          },
          "metadata": {}
        },
        {
          "output_type": "stream",
          "name": "stdout",
          "text": [
            "20000\n"
          ]
        }
      ]
    },
    {
      "cell_type": "markdown",
      "source": [
        "## Data preprocessing and preliminary data analysis"
      ],
      "metadata": {
        "id": "hPP1yIzO9DMT"
      }
    },
    {
      "cell_type": "markdown",
      "source": [
        "Feature normalization"
      ],
      "metadata": {
        "id": "5o4TiUfTGb6G"
      }
    },
    {
      "cell_type": "code",
      "source": [
        "df = df.dropna()\n",
        "df[\"rooms_per_house\"]=df[\"total_rooms\"]/df[\"households\"]\n",
        "df[\"bedrooms_per_house\"]=df[\"total_bedrooms\"]/df[\"households\"]\n",
        "df[\"population_per_house\"]= df[\"population\"]/df[\"households\"]"
      ],
      "metadata": {
        "id": "JAWF5gRw_LUx"
      },
      "execution_count": 139,
      "outputs": []
    },
    {
      "cell_type": "code",
      "source": [
        "fig = plt.figure()\n",
        "ax = plt.gca()\n",
        "plt.hist(df.population_per_house, bins=5000)\n",
        "ax.set_xlim([0,10]) \n",
        "print(f\"max value of population_per_house: {max(df.population_per_house)}\")\n",
        "df.population_per_house = df.population_per_house.apply(lambda x: min(x,8) )"
      ],
      "metadata": {
        "id": "8w5uTep1dLzE",
        "outputId": "1e9676fd-2926-47a3-c94d-4bf02bdbca3c",
        "colab": {
          "base_uri": "https://localhost:8080/",
          "height": 287
        }
      },
      "execution_count": 140,
      "outputs": [
        {
          "output_type": "stream",
          "name": "stdout",
          "text": [
            "max value of population_per_house: 502.46153846153845\n"
          ]
        },
        {
          "output_type": "display_data",
          "data": {
            "text/plain": [
              "<Figure size 432x288 with 1 Axes>"
            ],
            "image/png": "[encoded data removed]"
          },
          "metadata": {
            "needs_background": "light"
          }
        }
      ]
    },
    {
      "cell_type": "markdown",
      "source": [
        "We observe that, here the max value is very high compared to most of the value. We may want to limit the max value by applying a threshold. We will do the same for the fields \"rooms_per_house\", \"bedroom_per_house\""
      ],
      "metadata": {
        "id": "9BTFqb3mYu3o"
      }
    },
    {
      "cell_type": "code",
      "source": [
        "for i in [\"rooms_per_house\", \"bedrooms_per_house\", \"population_per_house\", \"population\"]:\n",
        "  threshold = np.percentile(df[i], 99)\n",
        "  df[i] = df[i].apply(lambda x: min(x, threshold)) ## 99 % of the data stays in range [0, 5.396] "
      ],
      "metadata": {
        "id": "7JuJ7wrslE8L"
      },
      "execution_count": 141,
      "outputs": []
    },
    {
      "cell_type": "code",
      "source": [
        "if [\"total_rooms\", \"total_bedrooms\", \"population\"] in list(df.columns):\n",
        "  df.drop(columns=[\"total_rooms\", \"total_bedrooms\", \"population\"], inplace=True)"
      ],
      "metadata": {
        "id": "w7D1-gTsiRbe"
      },
      "execution_count": 142,
      "outputs": []
    },
    {
      "cell_type": "markdown",
      "source": [
        "for every field, we will apply a threshold at 99th percentile to reduce the range of values"
      ],
      "metadata": {
        "id": "-8Kc-UXkZguI"
      }
    },
    {
      "cell_type": "code",
      "source": [
        "df.describe()"
      ],
      "metadata": {
        "id": "FV08pa6ta_bV",
        "outputId": "70ff8f26-30a5-438b-9f48-ce8f9b96b670",
        "colab": {
          "base_uri": "https://localhost:8080/",
          "height": 364
        }
      },
      "execution_count": 143,
      "outputs": [
        {
          "output_type": "execute_result",
          "data": {
            "text/plain": [
              "          longitude      latitude  housing_median_age   total_rooms  \\\n",
              "count  20000.000000  20000.000000        20000.000000  20000.000000   \n",
              "mean    -119.566172     35.626750           28.627750   2637.051550   \n",
              "std        2.003609      2.136141           12.582229   2176.314757   \n",
              "min     -124.350000     32.540000            1.000000      2.000000   \n",
              "25%     -121.790000     33.930000           18.000000   1451.000000   \n",
              "50%     -118.490000     34.250000           29.000000   2126.000000   \n",
              "75%     -118.000000     37.710000           37.000000   3149.000000   \n",
              "max     -114.310000     41.950000           52.000000  37937.000000   \n",
              "\n",
              "       total_bedrooms    population    households  median_income  \\\n",
              "count    20000.000000  20000.000000  20000.000000   20000.000000   \n",
              "mean       537.991800   1403.859750    499.525450       3.872132   \n",
              "std        420.631119    973.313966    381.729517       1.900356   \n",
              "min          1.000000      3.000000      1.000000       0.499900   \n",
              "25%        296.000000    788.000000    280.000000       2.562500   \n",
              "50%        434.000000   1166.000000    409.000000       3.536000   \n",
              "75%        647.000000   1724.000000    604.000000       4.745325   \n",
              "max       6445.000000   5804.030000   6082.000000      15.000100   \n",
              "\n",
              "       median_house_value  rooms_per_house  bedrooms_per_house  \\\n",
              "count        20000.000000     20000.000000        20000.000000   \n",
              "mean        207082.716750         5.333331            1.076706   \n",
              "std         115557.055856         1.332782            0.162476   \n",
              "min          14999.000000         0.846154            0.333333   \n",
              "25%         119800.000000         4.441216            1.005913   \n",
              "50%         179800.000000         5.232838            1.048710   \n",
              "75%         265000.000000         6.056697            1.099664   \n",
              "max         500001.000000        10.385260            2.153895   \n",
              "\n",
              "       population_per_house  \n",
              "count          20000.000000  \n",
              "mean               2.916411  \n",
              "std                0.735717  \n",
              "min                0.692308  \n",
              "25%                2.430380  \n",
              "50%                2.819566  \n",
              "75%                3.283609  \n",
              "max                5.396033  "
            ],
            "text/html": [
              "\n",
              "  <div id=\"df-3c7bc188-cad8-4b85-a69e-26d85de06b1c\">\n",
              "    <div class=\"colab-df-container\">\n",
              "      <div>\n",
              "<style scoped>\n",
              "    .dataframe tbody tr th:only-of-type {\n",
              "        vertical-align: middle;\n",
              "    }\n",
              "\n",
              "    .dataframe tbody tr th {\n",
              "        vertical-align: top;\n",
              "    }\n",
              "\n",
              "    .dataframe thead th {\n",
              "        text-align: right;\n",
              "    }\n",
              "</style>\n",
              "<table border=\"1\" class=\"dataframe\">\n",
              "  <thead>\n",
              "    <tr style=\"text-align: right;\">\n",
              "      <th></th>\n",
              "      <th>longitude</th>\n",
              "      <th>latitude</th>\n",
              "      <th>housing_median_age</th>\n",
              "      <th>total_rooms</th>\n",
              "      <th>total_bedrooms</th>\n",
              "      <th>population</th>\n",
              "      <th>households</th>\n",
              "      <th>median_income</th>\n",
              "      <th>median_house_value</th>\n",
              "      <th>rooms_per_house</th>\n",
              "      <th>bedrooms_per_house</th>\n",
              "      <th>population_per_house</th>\n",
              "    </tr>\n",
              "  </thead>\n",
              "  <tbody>\n",
              "    <tr>\n",
              "      <th>count</th>\n",
              "      <td>20000.000000</td>\n",
              "      <td>20000.000000</td>\n",
              "      <td>20000.000000</td>\n",
              "      <td>20000.000000</td>\n",
              "      <td>20000.000000</td>\n",
              "      <td>20000.000000</td>\n",
              "      <td>20000.000000</td>\n",
              "      <td>20000.000000</td>\n",
              "      <td>20000.000000</td>\n",
              "      <td>20000.000000</td>\n",
              "      <td>20000.000000</td>\n",
              "      <td>20000.000000</td>\n",
              "    </tr>\n",
              "    <tr>\n",
              "      <th>mean</th>\n",
              "      <td>-119.566172</td>\n",
              "      <td>35.626750</td>\n",
              "      <td>28.627750</td>\n",
              "      <td>2637.051550</td>\n",
              "      <td>537.991800</td>\n",
              "      <td>1403.859750</td>\n",
              "      <td>499.525450</td>\n",
              "      <td>3.872132</td>\n",
              "      <td>207082.716750</td>\n",
              "      <td>5.333331</td>\n",
              "      <td>1.076706</td>\n",
              "      <td>2.916411</td>\n",
              "    </tr>\n",
              "    <tr>\n",
              "      <th>std</th>\n",
              "      <td>2.003609</td>\n",
              "      <td>2.136141</td>\n",
              "      <td>12.582229</td>\n",
              "      <td>2176.314757</td>\n",
              "      <td>420.631119</td>\n",
              "      <td>973.313966</td>\n",
              "      <td>381.729517</td>\n",
              "      <td>1.900356</td>\n",
              "      <td>115557.055856</td>\n",
              "      <td>1.332782</td>\n",
              "      <td>0.162476</td>\n",
              "      <td>0.735717</td>\n",
              "    </tr>\n",
              "    <tr>\n",
              "      <th>min</th>\n",
              "      <td>-124.350000</td>\n",
              "      <td>32.540000</td>\n",
              "      <td>1.000000</td>\n",
              "      <td>2.000000</td>\n",
              "      <td>1.000000</td>\n",
              "      <td>3.000000</td>\n",
              "      <td>1.000000</td>\n",
              "      <td>0.499900</td>\n",
              "      <td>14999.000000</td>\n",
              "      <td>0.846154</td>\n",
              "      <td>0.333333</td>\n",
              "      <td>0.692308</td>\n",
              "    </tr>\n",
              "    <tr>\n",
              "      <th>25%</th>\n",
              "      <td>-121.790000</td>\n",
              "      <td>33.930000</td>\n",
              "      <td>18.000000</td>\n",
              "      <td>1451.000000</td>\n",
              "      <td>296.000000</td>\n",
              "      <td>788.000000</td>\n",
              "      <td>280.000000</td>\n",
              "      <td>2.562500</td>\n",
              "      <td>119800.000000</td>\n",
              "      <td>4.441216</td>\n",
              "      <td>1.005913</td>\n",
              "      <td>2.430380</td>\n",
              "    </tr>\n",
              "    <tr>\n",
              "      <th>50%</th>\n",
              "      <td>-118.490000</td>\n",
              "      <td>34.250000</td>\n",
              "      <td>29.000000</td>\n",
              "      <td>2126.000000</td>\n",
              "      <td>434.000000</td>\n",
              "      <td>1166.000000</td>\n",
              "      <td>409.000000</td>\n",
              "      <td>3.536000</td>\n",
              "      <td>179800.000000</td>\n",
              "      <td>5.232838</td>\n",
              "      <td>1.048710</td>\n",
              "      <td>2.819566</td>\n",
              "    </tr>\n",
              "    <tr>\n",
              "      <th>75%</th>\n",
              "      <td>-118.000000</td>\n",
              "      <td>37.710000</td>\n",
              "      <td>37.000000</td>\n",
              "      <td>3149.000000</td>\n",
              "      <td>647.000000</td>\n",
              "      <td>1724.000000</td>\n",
              "      <td>604.000000</td>\n",
              "      <td>4.745325</td>\n",
              "      <td>265000.000000</td>\n",
              "      <td>6.056697</td>\n",
              "      <td>1.099664</td>\n",
              "      <td>3.283609</td>\n",
              "    </tr>\n",
              "    <tr>\n",
              "      <th>max</th>\n",
              "      <td>-114.310000</td>\n",
              "      <td>41.950000</td>\n",
              "      <td>52.000000</td>\n",
              "      <td>37937.000000</td>\n",
              "      <td>6445.000000</td>\n",
              "      <td>5804.030000</td>\n",
              "      <td>6082.000000</td>\n",
              "      <td>15.000100</td>\n",
              "      <td>500001.000000</td>\n",
              "      <td>10.385260</td>\n",
              "      <td>2.153895</td>\n",
              "      <td>5.396033</td>\n",
              "    </tr>\n",
              "  </tbody>\n",
              "</table>\n",
              "</div>\n",
              "      <button class=\"colab-df-convert\" onclick=\"convertToInteractive('df-3c7bc188-cad8-4b85-a69e-26d85de06b1c')\"\n",
              "              title=\"Convert this dataframe to an interactive table.\"\n",
              "              style=\"display:none;\">\n",
              "        \n",
              "  <svg xmlns=\"http://www.w3.org/2000/svg\" height=\"24px\"viewBox=\"0 0 24 24\"\n",
              "       width=\"24px\">\n",
              "    <path d=\"M0 0h24v24H0V0z\" fill=\"none\"/>\n",
              "    <path d=\"M18.56 5.44l.94 2.06.94-2.06 2.06-.94-2.06-.94-.94-2.06-.94 2.06-2.06.94zm-11 1L8.5 8.5l.94-2.06 2.06-.94-2.06-.94L8.5 2.5l-.94 2.06-2.06.94zm10 10l.94 2.06.94-2.06 2.06-.94-2.06-.94-.94-2.06-.94 2.06-2.06.94z\"/><path d=\"M17.41 7.96l-1.37-1.37c-.4-.4-.92-.59-1.43-.59-.52 0-1.04.2-1.43.59L10.3 9.45l-7.72 7.72c-.78.78-.78 2.05 0 2.83L4 21.41c.39.39.9.59 1.41.59.51 0 1.02-.2 1.41-.59l7.78-7.78 2.81-2.81c.8-.78.8-2.07 0-2.86zM5.41 20L4 18.59l7.72-7.72 1.47 1.35L5.41 20z\"/>\n",
              "  </svg>\n",
              "      </button>\n",
              "      \n",
              "  <style>\n",
              "    .colab-df-container {\n",
              "      display:flex;\n",
              "      flex-wrap:wrap;\n",
              "      gap: 12px;\n",
              "    }\n",
              "\n",
              "    .colab-df-convert {\n",
              "      background-color: #E8F0FE;\n",
              "      border: none;\n",
              "      border-radius: 50%;\n",
              "      cursor: pointer;\n",
              "      display: none;\n",
              "      fill: #1967D2;\n",
              "      height: 32px;\n",
              "      padding: 0 0 0 0;\n",
              "      width: 32px;\n",
              "    }\n",
              "\n",
              "    .colab-df-convert:hover {\n",
              "      background-color: #E2EBFA;\n",
              "      box-shadow: 0px 1px 2px rgba(60, 64, 67, 0.3), 0px 1px 3px 1px rgba(60, 64, 67, 0.15);\n",
              "      fill: #174EA6;\n",
              "    }\n",
              "\n",
              "    [theme=dark] .colab-df-convert {\n",
              "      background-color: #3B4455;\n",
              "      fill: #D2E3FC;\n",
              "    }\n",
              "\n",
              "    [theme=dark] .colab-df-convert:hover {\n",
              "      background-color: #434B5C;\n",
              "      box-shadow: 0px 1px 3px 1px rgba(0, 0, 0, 0.15);\n",
              "      filter: drop-shadow(0px 1px 2px rgba(0, 0, 0, 0.3));\n",
              "      fill: #FFFFFF;\n",
              "    }\n",
              "  </style>\n",
              "\n",
              "      <script>\n",
              "        const buttonEl =\n",
              "          document.querySelector('#df-3c7bc188-cad8-4b85-a69e-26d85de06b1c button.colab-df-convert');\n",
              "        buttonEl.style.display =\n",
              "          google.colab.kernel.accessAllowed ? 'block' : 'none';\n",
              "\n",
              "        async function convertToInteractive(key) {\n",
              "          const element = document.querySelector('#df-3c7bc188-cad8-4b85-a69e-26d85de06b1c');\n",
              "          const dataTable =\n",
              "            await google.colab.kernel.invokeFunction('convertToInteractive',\n",
              "                                                     [key], {});\n",
              "          if (!dataTable) return;\n",
              "\n",
              "          const docLinkHtml = 'Like what you see? Visit the ' +\n",
              "            '<a target=\"_blank\" href=https://colab.research.google.com/notebooks/data_table.ipynb>data table notebook</a>'\n",
              "            + ' to learn more about interactive tables.';\n",
              "          element.innerHTML = '';\n",
              "          dataTable['output_type'] = 'display_data';\n",
              "          await google.colab.output.renderOutput(dataTable, element);\n",
              "          const docLink = document.createElement('div');\n",
              "          docLink.innerHTML = docLinkHtml;\n",
              "          element.appendChild(docLink);\n",
              "        }\n",
              "      </script>\n",
              "    </div>\n",
              "  </div>\n",
              "  "
            ]
          },
          "metadata": {},
          "execution_count": 143
        }
      ]
    },
    {
      "cell_type": "markdown",
      "source": [
        "We will normalize all value in a [0, 1] frame using MinMaxScaler"
      ],
      "metadata": {
        "id": "NlOSWxTdi_oj"
      }
    },
    {
      "cell_type": "code",
      "source": [
        "scaler=preprocessing.MinMaxScaler() \n",
        "columns_to_transform = list(df.columns)\n",
        "columns_to_transform.remove(\"median_house_value\")\n",
        "df[columns_to_transform] = scaler.fit_transform(df[columns_to_transform])"
      ],
      "metadata": {
        "id": "6W1a-PVLbAYQ"
      },
      "execution_count": 144,
      "outputs": []
    },
    {
      "cell_type": "code",
      "source": [
        "df.describe()"
      ],
      "metadata": {
        "id": "R03na3VTjOc2",
        "outputId": "168ff85f-7e75-4454-f625-92c268eb52c6",
        "colab": {
          "base_uri": "https://localhost:8080/",
          "height": 364
        }
      },
      "execution_count": 145,
      "outputs": [
        {
          "output_type": "execute_result",
          "data": {
            "text/plain": [
              "          longitude      latitude  housing_median_age   total_rooms  \\\n",
              "count  20000.000000  20000.000000        20000.000000  20000.000000   \n",
              "mean       0.476477      0.328029            0.541721      0.069462   \n",
              "std        0.199563      0.227008            0.246710      0.057370   \n",
              "min        0.000000      0.000000            0.000000      0.000000   \n",
              "25%        0.254980      0.147715            0.333333      0.038197   \n",
              "50%        0.583665      0.181722            0.549020      0.055991   \n",
              "75%        0.632470      0.549416            0.705882      0.082958   \n",
              "max        1.000000      1.000000            1.000000      1.000000   \n",
              "\n",
              "       total_bedrooms    population    households  median_income  \\\n",
              "count    20000.000000  20000.000000  20000.000000   20000.000000   \n",
              "mean         0.083332      0.241485      0.081981       0.232565   \n",
              "std          0.065275      0.167783      0.062774       0.131057   \n",
              "min          0.000000      0.000000      0.000000       0.000000   \n",
              "25%          0.045779      0.135321      0.045881       0.142246   \n",
              "50%          0.067194      0.200482      0.067094       0.209383   \n",
              "75%          0.100248      0.296671      0.099161       0.292784   \n",
              "max          1.000000      1.000000      1.000000       1.000000   \n",
              "\n",
              "       median_house_value  rooms_per_house  bedrooms_per_house  \\\n",
              "count        20000.000000     20000.000000        20000.000000   \n",
              "mean        207082.716750         0.470398            0.408321   \n",
              "std         115557.055856         0.139718            0.089245   \n",
              "min          14999.000000         0.000000            0.000000   \n",
              "25%         119800.000000         0.376876            0.369435   \n",
              "50%         179800.000000         0.459863            0.392943   \n",
              "75%         265000.000000         0.546230            0.420931   \n",
              "max         500001.000000         1.000000            1.000000   \n",
              "\n",
              "       population_per_house  \n",
              "count          20000.000000  \n",
              "mean               0.472839  \n",
              "std                0.156412  \n",
              "min                0.000000  \n",
              "25%                0.369510  \n",
              "50%                0.452250  \n",
              "75%                0.550904  \n",
              "max                1.000000  "
            ],
            "text/html": [
              "\n",
              "  <div id=\"df-45179d4b-f559-4655-8467-fd5566b9a9cf\">\n",
              "    <div class=\"colab-df-container\">\n",
              "      <div>\n",
              "<style scoped>\n",
              "    .dataframe tbody tr th:only-of-type {\n",
              "        vertical-align: middle;\n",
              "    }\n",
              "\n",
              "    .dataframe tbody tr th {\n",
              "        vertical-align: top;\n",
              "    }\n",
              "\n",
              "    .dataframe thead th {\n",
              "        text-align: right;\n",
              "    }\n",
              "</style>\n",
              "<table border=\"1\" class=\"dataframe\">\n",
              "  <thead>\n",
              "    <tr style=\"text-align: right;\">\n",
              "      <th></th>\n",
              "      <th>longitude</th>\n",
              "      <th>latitude</th>\n",
              "      <th>housing_median_age</th>\n",
              "      <th>total_rooms</th>\n",
              "      <th>total_bedrooms</th>\n",
              "      <th>population</th>\n",
              "      <th>households</th>\n",
              "      <th>median_income</th>\n",
              "      <th>median_house_value</th>\n",
              "      <th>rooms_per_house</th>\n",
              "      <th>bedrooms_per_house</th>\n",
              "      <th>population_per_house</th>\n",
              "    </tr>\n",
              "  </thead>\n",
              "  <tbody>\n",
              "    <tr>\n",
              "      <th>count</th>\n",
              "      <td>20000.000000</td>\n",
              "      <td>20000.000000</td>\n",
              "      <td>20000.000000</td>\n",
              "      <td>20000.000000</td>\n",
              "      <td>20000.000000</td>\n",
              "      <td>20000.000000</td>\n",
              "      <td>20000.000000</td>\n",
              "      <td>20000.000000</td>\n",
              "      <td>20000.000000</td>\n",
              "      <td>20000.000000</td>\n",
              "      <td>20000.000000</td>\n",
              "      <td>20000.000000</td>\n",
              "    </tr>\n",
              "    <tr>\n",
              "      <th>mean</th>\n",
              "      <td>0.476477</td>\n",
              "      <td>0.328029</td>\n",
              "      <td>0.541721</td>\n",
              "      <td>0.069462</td>\n",
              "      <td>0.083332</td>\n",
              "      <td>0.241485</td>\n",
              "      <td>0.081981</td>\n",
              "      <td>0.232565</td>\n",
              "      <td>207082.716750</td>\n",
              "      <td>0.470398</td>\n",
              "      <td>0.408321</td>\n",
              "      <td>0.472839</td>\n",
              "    </tr>\n",
              "    <tr>\n",
              "      <th>std</th>\n",
              "      <td>0.199563</td>\n",
              "      <td>0.227008</td>\n",
              "      <td>0.246710</td>\n",
              "      <td>0.057370</td>\n",
              "      <td>0.065275</td>\n",
              "      <td>0.167783</td>\n",
              "      <td>0.062774</td>\n",
              "      <td>0.131057</td>\n",
              "      <td>115557.055856</td>\n",
              "      <td>0.139718</td>\n",
              "      <td>0.089245</td>\n",
              "      <td>0.156412</td>\n",
              "    </tr>\n",
              "    <tr>\n",
              "      <th>min</th>\n",
              "      <td>0.000000</td>\n",
              "      <td>0.000000</td>\n",
              "      <td>0.000000</td>\n",
              "      <td>0.000000</td>\n",
              "      <td>0.000000</td>\n",
              "      <td>0.000000</td>\n",
              "      <td>0.000000</td>\n",
              "      <td>0.000000</td>\n",
              "      <td>14999.000000</td>\n",
              "      <td>0.000000</td>\n",
              "      <td>0.000000</td>\n",
              "      <td>0.000000</td>\n",
              "    </tr>\n",
              "    <tr>\n",
              "      <th>25%</th>\n",
              "      <td>0.254980</td>\n",
              "      <td>0.147715</td>\n",
              "      <td>0.333333</td>\n",
              "      <td>0.038197</td>\n",
              "      <td>0.045779</td>\n",
              "      <td>0.135321</td>\n",
              "      <td>0.045881</td>\n",
              "      <td>0.142246</td>\n",
              "      <td>119800.000000</td>\n",
              "      <td>0.376876</td>\n",
              "      <td>0.369435</td>\n",
              "      <td>0.369510</td>\n",
              "    </tr>\n",
              "    <tr>\n",
              "      <th>50%</th>\n",
              "      <td>0.583665</td>\n",
              "      <td>0.181722</td>\n",
              "      <td>0.549020</td>\n",
              "      <td>0.055991</td>\n",
              "      <td>0.067194</td>\n",
              "      <td>0.200482</td>\n",
              "      <td>0.067094</td>\n",
              "      <td>0.209383</td>\n",
              "      <td>179800.000000</td>\n",
              "      <td>0.459863</td>\n",
              "      <td>0.392943</td>\n",
              "      <td>0.452250</td>\n",
              "    </tr>\n",
              "    <tr>\n",
              "      <th>75%</th>\n",
              "      <td>0.632470</td>\n",
              "      <td>0.549416</td>\n",
              "      <td>0.705882</td>\n",
              "      <td>0.082958</td>\n",
              "      <td>0.100248</td>\n",
              "      <td>0.296671</td>\n",
              "      <td>0.099161</td>\n",
              "      <td>0.292784</td>\n",
              "      <td>265000.000000</td>\n",
              "      <td>0.546230</td>\n",
              "      <td>0.420931</td>\n",
              "      <td>0.550904</td>\n",
              "    </tr>\n",
              "    <tr>\n",
              "      <th>max</th>\n",
              "      <td>1.000000</td>\n",
              "      <td>1.000000</td>\n",
              "      <td>1.000000</td>\n",
              "      <td>1.000000</td>\n",
              "      <td>1.000000</td>\n",
              "      <td>1.000000</td>\n",
              "      <td>1.000000</td>\n",
              "      <td>1.000000</td>\n",
              "      <td>500001.000000</td>\n",
              "      <td>1.000000</td>\n",
              "      <td>1.000000</td>\n",
              "      <td>1.000000</td>\n",
              "    </tr>\n",
              "  </tbody>\n",
              "</table>\n",
              "</div>\n",
              "      <button class=\"colab-df-convert\" onclick=\"convertToInteractive('df-45179d4b-f559-4655-8467-fd5566b9a9cf')\"\n",
              "              title=\"Convert this dataframe to an interactive table.\"\n",
              "              style=\"display:none;\">\n",
              "        \n",
              "  <svg xmlns=\"http://www.w3.org/2000/svg\" height=\"24px\"viewBox=\"0 0 24 24\"\n",
              "       width=\"24px\">\n",
              "    <path d=\"M0 0h24v24H0V0z\" fill=\"none\"/>\n",
              "    <path d=\"M18.56 5.44l.94 2.06.94-2.06 2.06-.94-2.06-.94-.94-2.06-.94 2.06-2.06.94zm-11 1L8.5 8.5l.94-2.06 2.06-.94-2.06-.94L8.5 2.5l-.94 2.06-2.06.94zm10 10l.94 2.06.94-2.06 2.06-.94-2.06-.94-.94-2.06-.94 2.06-2.06.94z\"/><path d=\"M17.41 7.96l-1.37-1.37c-.4-.4-.92-.59-1.43-.59-.52 0-1.04.2-1.43.59L10.3 9.45l-7.72 7.72c-.78.78-.78 2.05 0 2.83L4 21.41c.39.39.9.59 1.41.59.51 0 1.02-.2 1.41-.59l7.78-7.78 2.81-2.81c.8-.78.8-2.07 0-2.86zM5.41 20L4 18.59l7.72-7.72 1.47 1.35L5.41 20z\"/>\n",
              "  </svg>\n",
              "      </button>\n",
              "      \n",
              "  <style>\n",
              "    .colab-df-container {\n",
              "      display:flex;\n",
              "      flex-wrap:wrap;\n",
              "      gap: 12px;\n",
              "    }\n",
              "\n",
              "    .colab-df-convert {\n",
              "      background-color: #E8F0FE;\n",
              "      border: none;\n",
              "      border-radius: 50%;\n",
              "      cursor: pointer;\n",
              "      display: none;\n",
              "      fill: #1967D2;\n",
              "      height: 32px;\n",
              "      padding: 0 0 0 0;\n",
              "      width: 32px;\n",
              "    }\n",
              "\n",
              "    .colab-df-convert:hover {\n",
              "      background-color: #E2EBFA;\n",
              "      box-shadow: 0px 1px 2px rgba(60, 64, 67, 0.3), 0px 1px 3px 1px rgba(60, 64, 67, 0.15);\n",
              "      fill: #174EA6;\n",
              "    }\n",
              "\n",
              "    [theme=dark] .colab-df-convert {\n",
              "      background-color: #3B4455;\n",
              "      fill: #D2E3FC;\n",
              "    }\n",
              "\n",
              "    [theme=dark] .colab-df-convert:hover {\n",
              "      background-color: #434B5C;\n",
              "      box-shadow: 0px 1px 3px 1px rgba(0, 0, 0, 0.15);\n",
              "      filter: drop-shadow(0px 1px 2px rgba(0, 0, 0, 0.3));\n",
              "      fill: #FFFFFF;\n",
              "    }\n",
              "  </style>\n",
              "\n",
              "      <script>\n",
              "        const buttonEl =\n",
              "          document.querySelector('#df-45179d4b-f559-4655-8467-fd5566b9a9cf button.colab-df-convert');\n",
              "        buttonEl.style.display =\n",
              "          google.colab.kernel.accessAllowed ? 'block' : 'none';\n",
              "\n",
              "        async function convertToInteractive(key) {\n",
              "          const element = document.querySelector('#df-45179d4b-f559-4655-8467-fd5566b9a9cf');\n",
              "          const dataTable =\n",
              "            await google.colab.kernel.invokeFunction('convertToInteractive',\n",
              "                                                     [key], {});\n",
              "          if (!dataTable) return;\n",
              "\n",
              "          const docLinkHtml = 'Like what you see? Visit the ' +\n",
              "            '<a target=\"_blank\" href=https://colab.research.google.com/notebooks/data_table.ipynb>data table notebook</a>'\n",
              "            + ' to learn more about interactive tables.';\n",
              "          element.innerHTML = '';\n",
              "          dataTable['output_type'] = 'display_data';\n",
              "          await google.colab.output.renderOutput(dataTable, element);\n",
              "          const docLink = document.createElement('div');\n",
              "          docLink.innerHTML = docLinkHtml;\n",
              "          element.appendChild(docLink);\n",
              "        }\n",
              "      </script>\n",
              "    </div>\n",
              "  </div>\n",
              "  "
            ]
          },
          "metadata": {},
          "execution_count": 145
        }
      ]
    },
    {
      "cell_type": "markdown",
      "source": [
        "## Loss function\n",
        "\n",
        "To define our success in predicting the label, we will need to define a metric. We could take the mean absolute error, but the root mean squared error is generally preferred if there are not many outliers (data points with extreme values)."
      ],
      "metadata": {
        "id": "Qksy_uvO9AXN"
      }
    },
    {
      "cell_type": "code",
      "source": [
        "## Definition of the root mean squared error \n",
        "\n",
        "def se(y_predicted: float, y_real: float) -> float:\n",
        "  \"\"\"\n",
        "  The square loss for a label and the model prediction is the L2-norm computed as (squared difference between the label and prediction) \n",
        "  \"\"\"\n",
        "  return (y_predicted - y_real) ** 2\n",
        "\n",
        "def rmse(ys_predicted: list, ys_real: list)-> float:\n",
        "  \"\"\"\n",
        "  The root mean squared error is an aggregation of the squared error over an ensemble of predition. it is computed as the Square root of the average squared error for the set of evaluated points.\n",
        "  \"\"\"\n",
        "  MSE = np.mean([se(y_predicted, y_real) for y_predicted, y_real in zip(ys_predicted, ys_real)]) \n",
        "  return np.sqrt(MSE)\n",
        "\n",
        "def ae(y_predicted: float, y_real: float) -> float:\n",
        "  return abs(y_predicted - y_real)\n",
        "\n",
        "def mae(ys_predicted, ys_real):\n",
        "  return np.mean([ae(y_predicted, y_real) for y_predicted, y_real in zip(ys_predicted, ys_real)]) \n",
        "\n",
        "\n",
        "\n",
        "\n",
        "print(rmse([1,0,1], [1,0,1]))\n",
        "print(rmse([1,0,1], [1,1,1])) ## square root of 1/3\n",
        "print(mae([1,0,1], [1,1,1])) ## 1/3\n"
      ],
      "metadata": {
        "id": "7V0k46mujb95",
        "outputId": "9f963a63-c134-4962-a4ad-6f461d73e77a",
        "colab": {
          "base_uri": "https://localhost:8080/"
        }
      },
      "execution_count": 146,
      "outputs": [
        {
          "output_type": "stream",
          "name": "stdout",
          "text": [
            "0.0\n",
            "0.5773502691896257\n",
            "0.3333333333333333\n"
          ]
        }
      ]
    },
    {
      "cell_type": "markdown",
      "source": [
        "## Dataset splitting\n",
        "To evaluate our model we need at least two dataset. One that is used to fit the model and one that is used to evaluate the performanse of the fitted model on unseeen data."
      ],
      "metadata": {
        "id": "Eb7b9znkC1e_"
      }
    },
    {
      "cell_type": "code",
      "source": [
        "from sklearn.model_selection import train_test_split \n",
        "\n",
        "labels = df[\"median_house_value\"]\n",
        "features = df[columns_to_transform]\n",
        "\n",
        "df_train, df_test, label_train, label_test = train_test_split(features, labels, test_size=0.1) ## A split with 10% of the data in the test set\n"
      ],
      "metadata": {
        "id": "f_ptNM7hC1AW"
      },
      "execution_count": 147,
      "outputs": []
    },
    {
      "cell_type": "markdown",
      "source": [
        "## Modelling\n",
        "\n",
        "A good first model to approach a regression problem is the linear regression as it is a very simple model that give you a first idea to the minimal performances you can expect. \n",
        "\n",
        "Given a set of data point X (dimension (#features, n_points)) \n",
        "and a label vector Y_true (of dimension (1, n_points))\n",
        "\n",
        "The goal is to find the optimal coefficients we name a of dim (1, #features) and b of dimension 1 for our model:\n",
        "\n",
        "Y_pred = aX + b  \n",
        "\n",
        "such that: \n",
        "RMSE(Y_pred, Y_true) is minimal."
      ],
      "metadata": {
        "id": "RE6yG7n5CUJS"
      }
    },
    {
      "cell_type": "code",
      "source": [
        "from sklearn.linear_model import LinearRegression\n",
        "\n",
        "model = LinearRegression().fit(df_train, label_train)\n"
      ],
      "metadata": {
        "id": "a8LB8HqVE67J"
      },
      "execution_count": 148,
      "outputs": []
    },
    {
      "cell_type": "code",
      "source": [
        "print(f\"value of a = {model.coef_}\")\n",
        "print(df_train.columns)\n",
        "print(f\"values of b={model.intercept_}\")"
      ],
      "metadata": {
        "colab": {
          "base_uri": "https://localhost:8080/"
        },
        "id": "YM_GB4xrKLtA",
        "outputId": "58d8990b-5b72-4622-9765-8ab9cc315c4a"
      },
      "execution_count": 149,
      "outputs": [
        {
          "output_type": "stream",
          "name": "stdout",
          "text": [
            "value of a = [-428234.60245717 -410862.09136239   57725.16296783 -174833.29122188\n",
            "   57549.72268674    8143.62514498  158973.88102883  619256.05255573\n",
            "  -71034.89864288  162339.63902331 -163950.81469827]\n",
            "Index(['longitude', 'latitude', 'housing_median_age', 'total_rooms',\n",
            "       'total_bedrooms', 'population', 'households', 'median_income',\n",
            "       'rooms_per_house', 'bedrooms_per_house', 'population_per_house'],\n",
            "      dtype='object')\n",
            "values of b=407540.164757854\n"
          ]
        }
      ]
    },
    {
      "cell_type": "markdown",
      "source": [
        "From this model we can have some first insights (high values positive or negative in the coefficients implies a high degree of correlation).\n",
        "\n",
        "Here we can see the model is very highly corelated with the median income, longitude and latitude of the househod.\n",
        "\n",
        "negative corelation in longitude and latitude means that housing is more expensive in the South-East of California.\n",
        "\n",
        "\n",
        "A quick look at the map of california will show us that we are probably right (as South-East of California contains the coast area and cities that are known to be very expensive, such as Los Angeles).\n",
        "\n",
        "We can now evaluate the RMSE fo this simple model"
      ],
      "metadata": {
        "id": "LeZMespyLHbh"
      }
    },
    {
      "cell_type": "code",
      "source": [
        "Y_pred = model.predict(df_test)"
      ],
      "metadata": {
        "id": "GjYBf3lxKVYj"
      },
      "execution_count": 150,
      "outputs": []
    },
    {
      "cell_type": "code",
      "source": [
        "rmse(list(Y_pred), label_test)"
      ],
      "metadata": {
        "colab": {
          "base_uri": "https://localhost:8080/"
        },
        "id": "N5qtqh7XOC_7",
        "outputId": "ba6c14c2-2095-47e2-92cd-d8dfb41d710c"
      },
      "execution_count": 151,
      "outputs": [
        {
          "output_type": "execute_result",
          "data": {
            "text/plain": [
              "66921.56472658105"
            ]
          },
          "metadata": {},
          "execution_count": 151
        }
      ]
    },
    {
      "cell_type": "code",
      "source": [
        "mae(list(Y_pred), label_test)"
      ],
      "metadata": {
        "colab": {
          "base_uri": "https://localhost:8080/"
        },
        "id": "dDcaP-vDOJYS",
        "outputId": "d487c96e-d097-4e28-8e6d-f0ef6960d813"
      },
      "execution_count": 152,
      "outputs": [
        {
          "output_type": "execute_result",
          "data": {
            "text/plain": [
              "49264.21571679909"
            ]
          },
          "metadata": {},
          "execution_count": 152
        }
      ]
    },
    {
      "cell_type": "markdown",
      "source": [
        "On average our model has an error of ±49'224$ on the prediction of the median price in a district. "
      ],
      "metadata": {
        "id": "BbZS4y_hPhyg"
      }
    },
    {
      "cell_type": "code",
      "source": [
        "## The evaluation can also be done entirely by scikit learn\n",
        "## metric called R squared. https://en.wikipedia.org/wiki/Coefficient_of_determination\n",
        "## Value between 0 and 1. 1 means model perfectly transfer to the test data. \n",
        "model.score(df_test, label_test)"
      ],
      "metadata": {
        "colab": {
          "base_uri": "https://localhost:8080/"
        },
        "id": "-jbzqJKFOLNw",
        "outputId": "11dc695d-778a-4890-a8b8-1cf1c4853e68"
      },
      "execution_count": 153,
      "outputs": [
        {
          "output_type": "execute_result",
          "data": {
            "text/plain": [
              "0.6648359895041176"
            ]
          },
          "metadata": {},
          "execution_count": 153
        }
      ]
    },
    {
      "cell_type": "markdown",
      "source": [
        "### More refined models\n",
        "\n",
        "### Other linear model\n",
        "+ Stochastic gradien descent (SGD)\n",
        "\n",
        "### Non linear model\n",
        "+ Multi layer perceptron with RELU activation\n"
      ],
      "metadata": {
        "id": "C1iuKtShQ7Wt"
      }
    },
    {
      "cell_type": "code",
      "source": [
        "from sklearn.linear_model import SGDRegressor\n",
        "model = SGDRegressor(max_iter=10000, tol=1e-5, alpha = 0.00005)\n",
        "model = model.fit(df_train, label_train)"
      ],
      "metadata": {
        "id": "wiKuKwnRQOlm"
      },
      "execution_count": 154,
      "outputs": []
    },
    {
      "cell_type": "code",
      "source": [
        "model.score(df_test, label_test)"
      ],
      "metadata": {
        "colab": {
          "base_uri": "https://localhost:8080/"
        },
        "id": "tH3UZ-0lTPvK",
        "outputId": "55d4bd73-1163-48c8-dc36-c806f89bb4a0"
      },
      "execution_count": 155,
      "outputs": [
        {
          "output_type": "execute_result",
          "data": {
            "text/plain": [
              "0.6651150533400536"
            ]
          },
          "metadata": {},
          "execution_count": 155
        }
      ]
    },
    {
      "cell_type": "code",
      "source": [
        "from sklearn.neural_network import MLPRegressor"
      ],
      "metadata": {
        "id": "W7libedvWHcq"
      },
      "execution_count": 156,
      "outputs": []
    },
    {
      "cell_type": "code",
      "source": [
        "model=MLPRegressor(hidden_layer_sizes=(15, 15, 10), random_state=42, max_iter=1000, alpha = 0.0005, learning_rate_init = 0.01, learning_rate=\"adaptive\").fit(df_train, label_train)"
      ],
      "metadata": {
        "id": "qocuMa8WY9eH"
      },
      "execution_count": 157,
      "outputs": []
    },
    {
      "cell_type": "code",
      "source": [
        "model.score(df_test, label_test)"
      ],
      "metadata": {
        "colab": {
          "base_uri": "https://localhost:8080/"
        },
        "id": "SjHIjycZZcw_",
        "outputId": "d2dc6ef4-895a-41dc-c836-21adc4a9b4cf"
      },
      "execution_count": 158,
      "outputs": [
        {
          "output_type": "execute_result",
          "data": {
            "text/plain": [
              "0.7105218799826059"
            ]
          },
          "metadata": {},
          "execution_count": 158
        }
      ]
    },
    {
      "cell_type": "code",
      "source": [],
      "metadata": {
        "id": "dBifcdaLbtS_"
      },
      "execution_count": 158,
      "outputs": []
    },
    {
      "cell_type": "markdown",
      "source": [
        "## Supervised image classification\n",
        "\n",
        "In this example we will used the infamous MNIST dataset. A dataset containing images of handwritten digits. The goal is to predict the hand written number from the image.\n",
        "\n",
        "For the image classification problem, one of the most studied method is the Confolutional Neural Network (CNN) "
      ],
      "metadata": {
        "id": "wxwmYNe4vGPF"
      }
    },
    {
      "cell_type": "code",
      "source": [
        "import torch.nn as nn\n",
        "import torch.nn.functional as F\n",
        "import torch.optim as optim\n",
        "import torch\n",
        "from torchvision import datasets\n",
        "from torchvision.transforms import ToTensor\n",
        "train_data = datasets.MNIST(\n",
        "    root = 'data',\n",
        "    train = True,                         \n",
        "    transform = ToTensor(), \n",
        "    download = True,            \n",
        ")\n",
        "test_data = datasets.MNIST(\n",
        "    root = 'data', \n",
        "    train = False, \n",
        "    transform = ToTensor()\n",
        ")"
      ],
      "metadata": {
        "id": "vhDcFrlB9Alu"
      },
      "execution_count": 159,
      "outputs": []
    },
    {
      "cell_type": "code",
      "source": [
        "train_data[0][0].shape"
      ],
      "metadata": {
        "colab": {
          "base_uri": "https://localhost:8080/"
        },
        "id": "m2I3S6JGRTr4",
        "outputId": "1ee96d9f-be67-4eed-a6c2-ee74b460a07a"
      },
      "execution_count": 160,
      "outputs": [
        {
          "output_type": "execute_result",
          "data": {
            "text/plain": [
              "torch.Size([1, 28, 28])"
            ]
          },
          "metadata": {},
          "execution_count": 160
        }
      ]
    },
    {
      "cell_type": "code",
      "source": [
        "plt.imshow(np.array(train_data[0][0][0]), cmap='gray', vmin=0, vmax=1)\n",
        "print(train_data[0][1])"
      ],
      "metadata": {
        "colab": {
          "base_uri": "https://localhost:8080/",
          "height": 283
        },
        "id": "hOyfgUK1Rj7M",
        "outputId": "a3fa47d2-3409-4619-ee0f-b7c4fe98ffbb"
      },
      "execution_count": 161,
      "outputs": [
        {
          "output_type": "stream",
          "name": "stdout",
          "text": [
            "5\n"
          ]
        },
        {
          "output_type": "display_data",
          "data": {
            "text/plain": [
              "<Figure size 432x288 with 1 Axes>"
            ],
            "image/png": "[encoded data removed]"
          },
          "metadata": {
            "needs_background": "light"
          }
        }
      ]
    },
    {
      "cell_type": "code",
      "source": [
        "loaders = {\n",
        "    'train' : torch.utils.data.DataLoader(train_data, \n",
        "                                          batch_size=100, \n",
        "                                          shuffle=True, \n",
        "                                          num_workers=2),\n",
        "    \n",
        "    'test'  : torch.utils.data.DataLoader(test_data, \n",
        "                                          batch_size=100, \n",
        "                                          shuffle=True, \n",
        "                                          num_workers=2),\n",
        "}"
      ],
      "metadata": {
        "id": "12jWldq6b7AU"
      },
      "execution_count": 162,
      "outputs": []
    },
    {
      "cell_type": "code",
      "source": [
        "\n",
        "class ConvNet(nn.Module):\n",
        "    def __init__(self):\n",
        "        super(ConvNet, self).__init__()\n",
        "        self.conv1 = nn.Conv2d(1, 10, kernel_size=5)\n",
        "        self.conv2 = nn.Conv2d(10, 20, kernel_size=5)\n",
        "        self.conv2_drop = nn.Dropout2d()\n",
        "        self.fc1 = nn.Linear(320, 50)\n",
        "        self.fc2 = nn.Linear(50, 10)\n",
        "\n",
        "    def forward(self, x):\n",
        "        x = F.relu(F.max_pool2d(self.conv1(x), 2))\n",
        "        x = F.relu(F.max_pool2d(self.conv2_drop(self.conv2(x)), 2))\n",
        "        x = x.view(-1, 320)\n",
        "        x = F.relu(self.fc1(x))\n",
        "        x = F.dropout(x, training=self.training)\n",
        "        x = self.fc2(x)\n",
        "        return F.log_softmax(x)"
      ],
      "metadata": {
        "id": "jgFLWYswWNcV"
      },
      "execution_count": 163,
      "outputs": []
    },
    {
      "cell_type": "code",
      "source": [
        "network = ConvNet()\n",
        "optimizer = optim.SGD(network.parameters(), lr=0.005,\n",
        "                      momentum=0.5)"
      ],
      "metadata": {
        "id": "hpO6E_vPWh6c"
      },
      "execution_count": 164,
      "outputs": []
    },
    {
      "cell_type": "code",
      "source": [
        "log_interval=200\n",
        "train_losses=[]\n",
        "train_counter=[]\n",
        "device = torch.device(\n",
        "    \"cuda:0\"\n",
        "    if torch.cuda.is_available()\n",
        "    else \"cpu\"\n",
        ")\n",
        "\n",
        "loss_func = nn.CrossEntropyLoss()   \n",
        "loss_func\n",
        "\n",
        "def train(epoch):\n",
        "  network.train()\n",
        "  for batch_idx, (data, target) in enumerate(loaders[\"train\"]):\n",
        "    data.to(device)\n",
        "    target.to(device)\n",
        "    optimizer.zero_grad()\n",
        "    output = network(data)\n",
        "    loss = loss_func(output, target)\n",
        "    loss.backward()\n",
        "    optimizer.step()\n",
        "    if batch_idx % log_interval == 0:\n",
        "      print('Train Epoch: {} [{}/{} ({:.0f}%)]\\tLoss: {:.6f}'.format(\n",
        "        epoch, batch_idx * len(data), len(loaders[\"train\"]) * len(data),\n",
        "        100. * batch_idx / len(loaders[\"train\"]), loss.item()))\n",
        "      train_losses.append(loss.item())\n",
        "      train_counter.append(\n",
        "        (batch_idx*64) + ((epoch-1)*len(data)))\n",
        "      \n",
        "def test():\n",
        "    # Test the model\n",
        "    network.eval()\n",
        "    with torch.no_grad():\n",
        "        correct = 0\n",
        "        total = 0\n",
        "        for images, labels in loaders['test']:\n",
        "            test_output = network(images)\n",
        "            pred_y = torch.max(test_output, 1)[1].data.squeeze()\n",
        "            accuracy = (pred_y == labels).sum().item() / float(labels.size(0))\n",
        "            pass\n",
        "    print('Test Accuracy of the model on the 10000 test images: %.2f' % accuracy)\n",
        "    return accuracy\n"
      ],
      "metadata": {
        "id": "VvND-ae9Wude"
      },
      "execution_count": 165,
      "outputs": []
    },
    {
      "cell_type": "code",
      "source": [
        "test_losses=[]\n",
        "for i in range(10):\n",
        "  train(i)\n",
        "  test_losses.append(test())"
      ],
      "metadata": {
        "id": "ywb6g3lIX1Xp",
        "outputId": "2f7dbc51-e147-4dc2-a647-be375ad8eb60",
        "colab": {
          "base_uri": "https://localhost:8080/"
        }
      },
      "execution_count": null,
      "outputs": [
        {
          "output_type": "stream",
          "name": "stderr",
          "text": [
            "/usr/local/lib/python3.7/dist-packages/ipykernel_launcher.py:17: UserWarning: Implicit dimension choice for log_softmax has been deprecated. Change the call to include dim=X as an argument.\n"
          ]
        },
        {
          "output_type": "stream",
          "name": "stdout",
          "text": [
            "Train Epoch: 0 [0/60000 (0%)]\tLoss: 2.313043\n",
            "Train Epoch: 0 [20000/60000 (200%)]\tLoss: 2.308141\n",
            "Train Epoch: 0 [40000/60000 (400%)]\tLoss: 2.250141\n",
            "Test Accuracy of the model on the 10000 test images: 0.59\n",
            "Train Epoch: 1 [0/60000 (0%)]\tLoss: 1.962421\n",
            "Train Epoch: 1 [20000/60000 (200%)]\tLoss: 1.286790\n",
            "Train Epoch: 1 [40000/60000 (400%)]\tLoss: 0.961000\n",
            "Test Accuracy of the model on the 10000 test images: 0.84\n",
            "Train Epoch: 2 [0/60000 (0%)]\tLoss: 0.774436\n",
            "Train Epoch: 2 [20000/60000 (200%)]\tLoss: 0.721335\n",
            "Train Epoch: 2 [40000/60000 (400%)]\tLoss: 0.480686\n",
            "Test Accuracy of the model on the 10000 test images: 0.92\n",
            "Train Epoch: 3 [0/60000 (0%)]\tLoss: 0.639835\n",
            "Train Epoch: 3 [20000/60000 (200%)]\tLoss: 0.833853\n",
            "Train Epoch: 3 [40000/60000 (400%)]\tLoss: 0.602207\n",
            "Test Accuracy of the model on the 10000 test images: 0.92\n",
            "Train Epoch: 4 [0/60000 (0%)]\tLoss: 0.364084\n",
            "Train Epoch: 4 [20000/60000 (200%)]\tLoss: 0.442311\n",
            "Train Epoch: 4 [40000/60000 (400%)]\tLoss: 0.488282\n",
            "Test Accuracy of the model on the 10000 test images: 0.94\n",
            "Train Epoch: 5 [0/60000 (0%)]\tLoss: 0.480581\n",
            "Train Epoch: 5 [20000/60000 (200%)]\tLoss: 0.521930\n",
            "Train Epoch: 5 [40000/60000 (400%)]\tLoss: 0.503877\n",
            "Test Accuracy of the model on the 10000 test images: 0.93\n",
            "Train Epoch: 6 [0/60000 (0%)]\tLoss: 0.430891\n",
            "Train Epoch: 6 [20000/60000 (200%)]\tLoss: 0.454988\n",
            "Train Epoch: 6 [40000/60000 (400%)]\tLoss: 0.238612\n",
            "Test Accuracy of the model on the 10000 test images: 0.95\n",
            "Train Epoch: 7 [0/60000 (0%)]\tLoss: 0.417816\n",
            "Train Epoch: 7 [20000/60000 (200%)]\tLoss: 0.388946\n",
            "Train Epoch: 7 [40000/60000 (400%)]\tLoss: 0.395329\n",
            "Test Accuracy of the model on the 10000 test images: 0.94\n",
            "Train Epoch: 8 [0/60000 (0%)]\tLoss: 0.328265\n",
            "Train Epoch: 8 [20000/60000 (200%)]\tLoss: 0.415615\n",
            "Train Epoch: 8 [40000/60000 (400%)]\tLoss: 0.257283\n",
            "Test Accuracy of the model on the 10000 test images: 0.97\n",
            "Train Epoch: 9 [0/60000 (0%)]\tLoss: 0.357121\n"
          ]
        }
      ]
    },
    {
      "cell_type": "code",
      "source": [
        "plt.plot(train_losses)"
      ],
      "metadata": {
        "id": "0JEadcG7X6Ct"
      },
      "execution_count": null,
      "outputs": []
    },
    {
      "cell_type": "code",
      "source": [
        "plt.plot()"
      ],
      "metadata": {
        "id": "oxK9PT3afPA8"
      },
      "execution_count": null,
      "outputs": []
    }
  ],
  "metadata": {
    "kernelspec": {
      "display_name": "Python 3.9.5 ('.venv': poetry)",
      "language": "python",
      "name": "python3"
    },
    "language_info": {
      "name": "python",
      "version": "3.9.5"
    },
    "orig_nbformat": 4,
    "vscode": {
      "interpreter": {
        "hash": "f509b1ca305c3e90a03e4572169df83a9fb1d602a53d61157810ebdf7563c289"
      }
    },
    "colab": {
      "provenance": [],
      "include_colab_link": true
    }
  },
  "nbformat": 4,
  "nbformat_minor": 0
}